{
 "cells": [
  {
   "cell_type": "code",
   "execution_count": 1,
   "id": "ad263e11-599d-449d-a6d9-84b5fece0b7f",
   "metadata": {},
   "outputs": [],
   "source": [
    "import pandas as pd\n",
    "import numpy as np\n",
    "import matplotlib.pyplot as plt\n",
    "import seaborn as sns\n",
    "import pyodbc\n",
    "import statsmodels.formula.api as smf\n",
    "import datetime as dt"
   ]
  },
  {
   "cell_type": "code",
   "execution_count": 2,
   "id": "ac9ebb4a-108d-43a1-b8f6-94455452699b",
   "metadata": {},
   "outputs": [],
   "source": [
    "password=\"CCny23595140\"\n",
    "username=\"leslierosario40\"\n",
    "default_db=\"Fall_2022\"\n",
    "server= \"localhost\"\n",
    "    \n",
    "cnxn = pyodbc.connect(\n",
    "         \"DRIVER={ODBC Driver 17 For SQL Server};SERVER=\"\n",
    "       + server\n",
    "       + \";DATABASE=\"\n",
    "       + default_db\n",
    "       + \";UID=\"\n",
    "       + username\n",
    "       + \";PWD=\"\n",
    "       + password\n",
    " )"
   ]
  },
  {
   "cell_type": "code",
   "execution_count": 3,
   "id": "ff5fdcac-7245-42a8-ab96-123bc2292a5f",
   "metadata": {},
   "outputs": [
    {
     "data": {
      "text/plain": [
       "<pyodbc.Connection at 0x7f0a30b27e30>"
      ]
     },
     "execution_count": 3,
     "metadata": {},
     "output_type": "execute_result"
    }
   ],
   "source": [
    "cnxn"
   ]
  },
  {
   "cell_type": "code",
   "execution_count": 4,
   "id": "6ffb6d95-d674-45b3-b36c-fdd94ddeec89",
   "metadata": {},
   "outputs": [],
   "source": [
    "closed_restaurant_violations=pd.read_sql(\"SELECT rd.dba AS restaurant_name, vd.camis, rd.boro, rd.zipcode, rd.cuisine_description, vd.inspection_date, vd.violation_code, vd.violation_description, vd.score, vd.critical_flag, vd.[action], rd.longitude, rd.latitude FROM violation_data vd  JOIN restaurant_data rd  ON rd.camis=vd.camis  WHERE [action] LIKE 'Establishment Closed by DOHMH. Violations were cited in the following area(s) and those requiring immediate action were addressed.' AND boro != '0' AND zipcode IS NOT NULL GROUP BY vd.camis,rd.zipcode, vd.[action], vd.inspection_date, vd.score, vd.critical_flag, vd.violation_code, vd.violation_description, rd.dba,  rd.boro, rd.longitude, rd.latitude, rd.cuisine_description\", con=cnxn)"
   ]
  },
  {
   "cell_type": "code",
   "execution_count": 5,
   "id": "6bbbf79b-12c1-40d3-8e1c-a370dca2a683",
   "metadata": {},
   "outputs": [
    {
     "data": {
      "text/plain": [
       "restaurant_name                  object\n",
       "camis                             int64\n",
       "boro                             object\n",
       "zipcode                          object\n",
       "cuisine_description              object\n",
       "inspection_date          datetime64[ns]\n",
       "violation_code                   object\n",
       "violation_description            object\n",
       "score                           float64\n",
       "critical_flag                    object\n",
       "action                           object\n",
       "longitude                       float64\n",
       "latitude                        float64\n",
       "dtype: object"
      ]
     },
     "execution_count": 5,
     "metadata": {},
     "output_type": "execute_result"
    }
   ],
   "source": [
    "closed_restaurant_violations.dtypes"
   ]
  },
  {
   "cell_type": "code",
   "execution_count": 6,
   "id": "47edbd55-b4ab-4f08-9164-40dd2475cd5b",
   "metadata": {},
   "outputs": [
    {
     "data": {
      "text/html": [
       "<div>\n",
       "<style scoped>\n",
       "    .dataframe tbody tr th:only-of-type {\n",
       "        vertical-align: middle;\n",
       "    }\n",
       "\n",
       "    .dataframe tbody tr th {\n",
       "        vertical-align: top;\n",
       "    }\n",
       "\n",
       "    .dataframe thead th {\n",
       "        text-align: right;\n",
       "    }\n",
       "</style>\n",
       "<table border=\"1\" class=\"dataframe\">\n",
       "  <thead>\n",
       "    <tr style=\"text-align: right;\">\n",
       "      <th></th>\n",
       "      <th>restaurant_name</th>\n",
       "      <th>camis</th>\n",
       "      <th>boro</th>\n",
       "      <th>zipcode</th>\n",
       "      <th>cuisine_description</th>\n",
       "      <th>inspection_date</th>\n",
       "      <th>violation_code</th>\n",
       "      <th>violation_description</th>\n",
       "      <th>score</th>\n",
       "      <th>critical_flag</th>\n",
       "      <th>action</th>\n",
       "      <th>longitude</th>\n",
       "      <th>latitude</th>\n",
       "    </tr>\n",
       "  </thead>\n",
       "  <tbody>\n",
       "    <tr>\n",
       "      <th>0</th>\n",
       "      <td>SPOONBREAD TOO</td>\n",
       "      <td>40364179</td>\n",
       "      <td>Manhattan</td>\n",
       "      <td>10025</td>\n",
       "      <td>Soul Food</td>\n",
       "      <td>2018-05-23</td>\n",
       "      <td>02B</td>\n",
       "      <td>Hot food item not held at or above 140º F.</td>\n",
       "      <td>59.0</td>\n",
       "      <td>Critical</td>\n",
       "      <td>Establishment Closed by DOHMH. Violations were...</td>\n",
       "      <td>-73.960159</td>\n",
       "      <td>40.801373</td>\n",
       "    </tr>\n",
       "    <tr>\n",
       "      <th>1</th>\n",
       "      <td>SPOONBREAD TOO</td>\n",
       "      <td>40364179</td>\n",
       "      <td>Manhattan</td>\n",
       "      <td>10025</td>\n",
       "      <td>Soul Food</td>\n",
       "      <td>2018-05-23</td>\n",
       "      <td>02G</td>\n",
       "      <td>Cold food item held above 41º F (smoked fish a...</td>\n",
       "      <td>59.0</td>\n",
       "      <td>Critical</td>\n",
       "      <td>Establishment Closed by DOHMH. Violations were...</td>\n",
       "      <td>-73.960159</td>\n",
       "      <td>40.801373</td>\n",
       "    </tr>\n",
       "  </tbody>\n",
       "</table>\n",
       "</div>"
      ],
      "text/plain": [
       "  restaurant_name     camis       boro zipcode cuisine_description  \\\n",
       "0  SPOONBREAD TOO  40364179  Manhattan   10025           Soul Food   \n",
       "1  SPOONBREAD TOO  40364179  Manhattan   10025           Soul Food   \n",
       "\n",
       "  inspection_date violation_code  \\\n",
       "0      2018-05-23            02B   \n",
       "1      2018-05-23            02G   \n",
       "\n",
       "                               violation_description  score critical_flag  \\\n",
       "0         Hot food item not held at or above 140º F.   59.0      Critical   \n",
       "1  Cold food item held above 41º F (smoked fish a...   59.0      Critical   \n",
       "\n",
       "                                              action  longitude   latitude  \n",
       "0  Establishment Closed by DOHMH. Violations were... -73.960159  40.801373  \n",
       "1  Establishment Closed by DOHMH. Violations were... -73.960159  40.801373  "
      ]
     },
     "execution_count": 6,
     "metadata": {},
     "output_type": "execute_result"
    }
   ],
   "source": [
    "closed_restaurant_violations.head(2)"
   ]
  },
  {
   "cell_type": "code",
   "execution_count": 7,
   "id": "aabb22c9-67dd-49e4-a426-43e58c5f0222",
   "metadata": {},
   "outputs": [
    {
     "data": {
      "text/plain": [
       "(8706, 13)"
      ]
     },
     "execution_count": 7,
     "metadata": {},
     "output_type": "execute_result"
    }
   ],
   "source": [
    "closed_restaurant_violations.shape\n",
    "#there are 8706 closed restaurant violations."
   ]
  },
  {
   "cell_type": "markdown",
   "id": "3f4532f9-1e8a-4d4b-b5e7-dd9db94996b6",
   "metadata": {},
   "source": [
    "Obtained each closed restaurant by dropping duplicates of violations and only keeping the last duplicate of each camis."
   ]
  },
  {
   "cell_type": "code",
   "execution_count": 8,
   "id": "7148885c-f119-4194-932d-e2e07bf3cf7c",
   "metadata": {},
   "outputs": [
    {
     "data": {
      "text/html": [
       "<div>\n",
       "<style scoped>\n",
       "    .dataframe tbody tr th:only-of-type {\n",
       "        vertical-align: middle;\n",
       "    }\n",
       "\n",
       "    .dataframe tbody tr th {\n",
       "        vertical-align: top;\n",
       "    }\n",
       "\n",
       "    .dataframe thead th {\n",
       "        text-align: right;\n",
       "    }\n",
       "</style>\n",
       "<table border=\"1\" class=\"dataframe\">\n",
       "  <thead>\n",
       "    <tr style=\"text-align: right;\">\n",
       "      <th></th>\n",
       "      <th>restaurant_name</th>\n",
       "      <th>camis</th>\n",
       "      <th>boro</th>\n",
       "      <th>zipcode</th>\n",
       "      <th>cuisine_description</th>\n",
       "      <th>inspection_date</th>\n",
       "      <th>violation_code</th>\n",
       "      <th>violation_description</th>\n",
       "      <th>score</th>\n",
       "      <th>critical_flag</th>\n",
       "      <th>action</th>\n",
       "      <th>longitude</th>\n",
       "      <th>latitude</th>\n",
       "    </tr>\n",
       "  </thead>\n",
       "  <tbody>\n",
       "    <tr>\n",
       "      <th>4</th>\n",
       "      <td>SPOONBREAD TOO</td>\n",
       "      <td>40364179</td>\n",
       "      <td>Manhattan</td>\n",
       "      <td>10025</td>\n",
       "      <td>Soul Food</td>\n",
       "      <td>2018-05-23</td>\n",
       "      <td>05F</td>\n",
       "      <td>Insufficient or no refrigerated or hot holding...</td>\n",
       "      <td>59.0</td>\n",
       "      <td>Critical</td>\n",
       "      <td>Establishment Closed by DOHMH. Violations were...</td>\n",
       "      <td>-73.960159</td>\n",
       "      <td>40.801373</td>\n",
       "    </tr>\n",
       "    <tr>\n",
       "      <th>11</th>\n",
       "      <td>MARCHIS RESTAURANT</td>\n",
       "      <td>40364668</td>\n",
       "      <td>Manhattan</td>\n",
       "      <td>10016</td>\n",
       "      <td>Italian</td>\n",
       "      <td>2017-11-09</td>\n",
       "      <td>08A</td>\n",
       "      <td>Facility not vermin proof. Harborage or condit...</td>\n",
       "      <td>12.0</td>\n",
       "      <td>Not Critical</td>\n",
       "      <td>Establishment Closed by DOHMH. Violations were...</td>\n",
       "      <td>-73.978333</td>\n",
       "      <td>40.743332</td>\n",
       "    </tr>\n",
       "  </tbody>\n",
       "</table>\n",
       "</div>"
      ],
      "text/plain": [
       "       restaurant_name     camis       boro zipcode cuisine_description  \\\n",
       "4       SPOONBREAD TOO  40364179  Manhattan   10025           Soul Food   \n",
       "11  MARCHIS RESTAURANT  40364668  Manhattan   10016             Italian   \n",
       "\n",
       "   inspection_date violation_code  \\\n",
       "4       2018-05-23            05F   \n",
       "11      2017-11-09            08A   \n",
       "\n",
       "                                violation_description  score critical_flag  \\\n",
       "4   Insufficient or no refrigerated or hot holding...   59.0      Critical   \n",
       "11  Facility not vermin proof. Harborage or condit...   12.0  Not Critical   \n",
       "\n",
       "                                               action  longitude   latitude  \n",
       "4   Establishment Closed by DOHMH. Violations were... -73.960159  40.801373  \n",
       "11  Establishment Closed by DOHMH. Violations were... -73.978333  40.743332  "
      ]
     },
     "execution_count": 8,
     "metadata": {},
     "output_type": "execute_result"
    }
   ],
   "source": [
    "closed_restaurants = closed_restaurant_violations.drop_duplicates(subset='camis', keep='last', inplace=False)\n",
    "closed_restaurants.head(2)"
   ]
  },
  {
   "cell_type": "code",
   "execution_count": 9,
   "id": "d9410d1a-a8a0-4e50-9beb-68afcae72a97",
   "metadata": {},
   "outputs": [
    {
     "data": {
      "text/plain": [
       "(1259, 13)"
      ]
     },
     "execution_count": 9,
     "metadata": {},
     "output_type": "execute_result"
    }
   ],
   "source": [
    "closed_restaurants.shape\n",
    "#1,259 restaurants have closed at some point in NYC from 2015-2022"
   ]
  },
  {
   "cell_type": "markdown",
   "id": "7c8f9868-7c3b-4853-9e23-5f9d64303dfc",
   "metadata": {},
   "source": [
    "Violation Codes\n",
    "Rates of violation codes from closure restaurant inspections."
   ]
  },
  {
   "cell_type": "code",
   "execution_count": 10,
   "id": "a024f5bf-4325-457e-890e-556bb5b60423",
   "metadata": {},
   "outputs": [],
   "source": [
    "close_violation_rate = closed_restaurant_violations.violation_code.value_counts()/len(closed_restaurant_violations)*100"
   ]
  },
  {
   "cell_type": "code",
   "execution_count": 11,
   "id": "011d793f-255a-405e-a1c5-3ee1cee68028",
   "metadata": {},
   "outputs": [
    {
     "data": {
      "text/plain": [
       "08A    14.553182\n",
       "04L    10.303239\n",
       "06C     6.995176\n",
       "10F     6.581668\n",
       "04M     5.938433\n",
       "Name: violation_code, dtype: float64"
      ]
     },
     "execution_count": 11,
     "metadata": {},
     "output_type": "execute_result"
    }
   ],
   "source": [
    "close_violation_rate.head(5)"
   ]
  },
  {
   "cell_type": "code",
   "execution_count": 12,
   "id": "7a0e30a9-ee83-4952-b5bf-53a747479d25",
   "metadata": {},
   "outputs": [
    {
     "data": {
      "image/png": "[encoded data removed]",
      "text/plain": [
       "<Figure size 432x288 with 1 Axes>"
      ]
     },
     "metadata": {
      "needs_background": "light"
     },
     "output_type": "display_data"
    }
   ],
   "source": [
    "close_violation_rate.head(5).plot(kind=\"bar\", color = ['r', 'g', 'b','c','m'])\n",
    "plt.title('Rate (%) of Violation Codes From Closed Restaurant Inspections')\n",
    "plt.ylabel('Frequency Rate (%)')\n",
    "plt.xlabel('Violation Code')\n",
    "plt.show()\n"
   ]
  },
  {
   "cell_type": "code",
   "execution_count": 13,
   "id": "a2853aa3-cd12-4c9c-b11f-83335c3b1b54",
   "metadata": {},
   "outputs": [],
   "source": [
    "all_restaurant_violations =pd.read_sql(\"SELECT violation_description, violation_code, camis FROM violation_data WHERE [action] != 'Establishment Closed by DOHMH. Violations were cited in the following area(s) and those requiring immediate action were addressed.' AND camis != '30075445'\", con=cnxn)"
   ]
  },
  {
   "cell_type": "code",
   "execution_count": 14,
   "id": "12e075e0-6b19-4e91-b2ba-d956460fab25",
   "metadata": {},
   "outputs": [],
   "source": [
    "first_inspection_closures = pd.read_sql(\"WITH all_camis_rank AS (SELECT restaurant_data.zipcode, violation_data.camis, restaurant_data.boro, restaurant_data.dba, violation_data.violation_description, violation_data.violation_code, violation_data.[action], violation_data.inspection_date, violation_data.grade, restaurant_data.cuisine_description, DENSE_RANK () OVER (PARTITION BY violation_data.camis ORDER BY violation_data.inspection_date ASC) CAMIS_RANK FROM violation_data LEFT JOIN restaurant_data  ON restaurant_data.camis=violation_data.camis WHERE violation_data.camis != 30075445 and inspection_date != '1900-01-01 00:00:00.0000000' GROUP BY restaurant_data.zipcode,violation_data.camis,restaurant_data.boro,restaurant_data.dba,violation_data.violation_description, violation_data.violation_code, violation_data.[action], violation_data.grade, restaurant_data.cuisine_description, violation_data.inspection_date) SELECT * FROM all_camis_rank WHERE CAMIS_RANK = 1 and action = 'Establishment Closed by DOHMH. Violations were cited in the following area(s) and those requiring immediate action were addressed.'\",con=cnxn)"
   ]
  },
  {
   "cell_type": "code",
   "execution_count": 15,
   "id": "279d75f9-1ea8-4b7e-921f-6611a98df76e",
   "metadata": {},
   "outputs": [
    {
     "data": {
      "text/plain": [
       "zipcode                          object\n",
       "camis                             int64\n",
       "boro                             object\n",
       "dba                              object\n",
       "violation_description            object\n",
       "violation_code                   object\n",
       "action                           object\n",
       "inspection_date          datetime64[ns]\n",
       "grade                            object\n",
       "cuisine_description              object\n",
       "CAMIS_RANK                        int64\n",
       "dtype: object"
      ]
     },
     "execution_count": 15,
     "metadata": {},
     "output_type": "execute_result"
    }
   ],
   "source": [
    "first_inspection_closures.dtypes"
   ]
  },
  {
   "cell_type": "code",
   "execution_count": 16,
   "id": "4bae66d6-0fd0-46c5-b15a-0ec24df30025",
   "metadata": {},
   "outputs": [],
   "source": [
    "first_inspection_closure_rate =first_inspection_closures.violation_code.value_counts()"
   ]
  },
  {
   "cell_type": "code",
   "execution_count": 17,
   "id": "f344aec8-61bc-4fd8-bdbb-972c257e449c",
   "metadata": {},
   "outputs": [
    {
     "data": {
      "image/png": "[encoded data removed]",
      "text/plain": [
       "<Figure size 432x288 with 1 Axes>"
      ]
     },
     "metadata": {
      "needs_background": "light"
     },
     "output_type": "display_data"
    }
   ],
   "source": [
    "first_inspection_closure_rate.head(5).plot(kind=\"bar\", color = ['g', 'k', 'c','r','y'])\n",
    "plt.title('Rate (%) of Violation Codes From Initial Inspection Closures')\n",
    "plt.ylabel('Frequency Rate (%)')\n",
    "plt.xlabel('Violation Code')\n",
    "plt.show()\n",
    "#these are the violations that appeared in restaurants whose first inspection they had on record was failed and resulted in a closure."
   ]
  },
  {
   "cell_type": "markdown",
   "id": "4166c18f-8c52-4e3d-ad0e-aae83a555706",
   "metadata": {},
   "source": [
    "Q. Which borough had the highest amount of closed restaurants? Which had the lowest?"
   ]
  },
  {
   "cell_type": "code",
   "execution_count": 18,
   "id": "530d1217-33f9-44f7-b252-53d01bccff77",
   "metadata": {},
   "outputs": [
    {
     "data": {
      "text/plain": [
       "Brooklyn         415\n",
       "Manhattan        394\n",
       "Queens           280\n",
       "Bronx            142\n",
       "Staten Island     28\n",
       "Name: boro, dtype: int64"
      ]
     },
     "execution_count": 18,
     "metadata": {},
     "output_type": "execute_result"
    }
   ],
   "source": [
    "closed_restaurants_boro = closed_restaurants.boro.value_counts()\n",
    "closed_restaurants_boro.head()"
   ]
  },
  {
   "cell_type": "code",
   "execution_count": 19,
   "id": "75179010-1278-42d2-8b6d-eec01162508a",
   "metadata": {},
   "outputs": [
    {
     "data": {
      "image/png": "[encoded data removed]",
      "text/plain": [
       "<Figure size 432x288 with 1 Axes>"
      ]
     },
     "metadata": {
      "needs_background": "light"
     },
     "output_type": "display_data"
    }
   ],
   "source": [
    "closed_restaurants_boro.plot(kind=\"bar\")\n",
    "plt.title('Closed Restaurant Count By Borough')\n",
    "plt.ylabel('Restaurant Count')\n",
    "plt.xlabel('Borough')\n",
    "plt.show()\n",
    "#this bar chart is skewed, lets see why below."
   ]
  },
  {
   "cell_type": "markdown",
   "id": "5e845404-cc10-4b59-9197-3b448349e47d",
   "metadata": {},
   "source": [
    "Uploaded a new csv file that contained all 27,483 restaurants with columns : boro, restaurant name, and zipcode to compare the percentages of closed restaurants."
   ]
  },
  {
   "cell_type": "code",
   "execution_count": 20,
   "id": "00756288-6db3-4e03-88bb-15a112885e74",
   "metadata": {},
   "outputs": [],
   "source": [
    "all_restaurants=pd.read_sql(\"SELECT dba AS restaurant_name, boro, zipcode, cuisine_description FROM restaurant_data WHERE boro != '0' AND zipcode IS NOT NULL AND camis != 30075445\",con=cnxn)"
   ]
  },
  {
   "cell_type": "code",
   "execution_count": 21,
   "id": "f512b16f-828d-49ae-9d03-c875f61da108",
   "metadata": {},
   "outputs": [
    {
     "data": {
      "text/plain": [
       "(27483, 4)"
      ]
     },
     "execution_count": 21,
     "metadata": {},
     "output_type": "execute_result"
    }
   ],
   "source": [
    "all_restaurants.head()\n",
    "all_restaurants.shape"
   ]
  },
  {
   "cell_type": "markdown",
   "id": "160deb34-ae7e-42df-93ba-ac9ea92fd768",
   "metadata": {},
   "source": [
    "   Counted total number of restaurants in each borough.\n",
    "   Notice Staten Island has the lowest restaurant population, \n",
    "which means it would always have the lowest amount of closed restaurants. \n",
    "   To accurately compare the boroughs, we need to compare the percent of closures by getting the rate of closures and multiplying it by 100."
   ]
  },
  {
   "cell_type": "code",
   "execution_count": 22,
   "id": "afc8e342-67f9-41d8-8dd1-b91236342460",
   "metadata": {},
   "outputs": [
    {
     "data": {
      "text/plain": [
       "Manhattan        10558\n",
       "Brooklyn          7036\n",
       "Queens            6349\n",
       "Bronx             2520\n",
       "Staten Island     1020\n",
       "Name: boro, dtype: int64"
      ]
     },
     "execution_count": 22,
     "metadata": {},
     "output_type": "execute_result"
    }
   ],
   "source": [
    "all_restaurants.boro.value_counts()"
   ]
  },
  {
   "cell_type": "code",
   "execution_count": 23,
   "id": "5567e729-43a9-454a-bf53-4643df738c5f",
   "metadata": {},
   "outputs": [],
   "source": [
    "percent_closed_by_boro = (closed_restaurants.boro.value_counts()/all_restaurants.boro.value_counts())*100"
   ]
  },
  {
   "cell_type": "code",
   "execution_count": 24,
   "id": "446cb5e9-4748-4660-8b34-9311e8a71c6a",
   "metadata": {},
   "outputs": [
    {
     "data": {
      "text/plain": [
       "Bronx            5.634921\n",
       "Brooklyn         5.898238\n",
       "Manhattan        3.731767\n",
       "Queens           4.410143\n",
       "Staten Island    2.745098\n",
       "Name: boro, dtype: float64"
      ]
     },
     "execution_count": 24,
     "metadata": {},
     "output_type": "execute_result"
    }
   ],
   "source": [
    "percent_closed_by_boro"
   ]
  },
  {
   "cell_type": "code",
   "execution_count": 25,
   "id": "ed8c3ef5-41fd-4df2-9b82-52d205b872bf",
   "metadata": {},
   "outputs": [
    {
     "data": {
      "image/png": "[encoded data removed]",
      "text/plain": [
       "<Figure size 432x288 with 1 Axes>"
      ]
     },
     "metadata": {
      "needs_background": "light"
     },
     "output_type": "display_data"
    }
   ],
   "source": [
    "percent_closed_by_boro.plot(kind=\"bar\")\n",
    "plt.title('Percent of Restaurants Ordered to Close in Each Borough')\n",
    "plt.ylabel('Closure Rate (%)')\n",
    "plt.xlabel('Borough')\n",
    "plt.show()\n",
    "#Staten Island had the lowest closure rate while Brooklyn had double the rate"
   ]
  },
  {
   "cell_type": "markdown",
   "id": "82e14f11-f13d-416c-baa9-6786ca62795c",
   "metadata": {},
   "source": [
    "A: Brooklyn had the highest percent of restaurant that have closed at some point in the time constraints of the data (5.90%).\n",
    "Staten Island had the lowest percent of closed restaurants (2.75%), \n",
    "Manhattan followed up at second lowest (3.73%). "
   ]
  },
  {
   "cell_type": "markdown",
   "id": "7d764fe8-1a9e-4e31-8e08-ecf3ae00a1a5",
   "metadata": {},
   "source": [
    "Zipcode closure rates by borough"
   ]
  },
  {
   "cell_type": "code",
   "execution_count": 26,
   "id": "6ef93ac7-d75d-4153-a3f2-e8d6c50d16e6",
   "metadata": {},
   "outputs": [
    {
     "data": {
      "text/plain": [
       "10001    1.971326\n",
       "10002    4.299065\n",
       "10003    3.741007\n",
       "10004    1.282051\n",
       "10005    5.172414\n",
       "           ...   \n",
       "11692         NaN\n",
       "11693    5.555556\n",
       "11694    3.921569\n",
       "11697         NaN\n",
       "12345         NaN\n",
       "Name: zipcode, Length: 221, dtype: float64"
      ]
     },
     "execution_count": 26,
     "metadata": {},
     "output_type": "execute_result"
    }
   ],
   "source": [
    "ratio_zipcode_open_to_close = (closed_restaurants.zipcode.value_counts()/all_restaurants.zipcode.value_counts())*100\n",
    "ratio_zipcode_open_to_close"
   ]
  },
  {
   "cell_type": "code",
   "execution_count": 27,
   "id": "82aa2736-fe89-4f01-946a-f6c092daecbf",
   "metadata": {},
   "outputs": [
    {
     "data": {
      "text/html": [
       "<div>\n",
       "<style scoped>\n",
       "    .dataframe tbody tr th:only-of-type {\n",
       "        vertical-align: middle;\n",
       "    }\n",
       "\n",
       "    .dataframe tbody tr th {\n",
       "        vertical-align: top;\n",
       "    }\n",
       "\n",
       "    .dataframe thead th {\n",
       "        text-align: right;\n",
       "    }\n",
       "</style>\n",
       "<table border=\"1\" class=\"dataframe\">\n",
       "  <thead>\n",
       "    <tr style=\"text-align: right;\">\n",
       "      <th></th>\n",
       "      <th>zipcode</th>\n",
       "      <th>Ratio</th>\n",
       "    </tr>\n",
       "  </thead>\n",
       "  <tbody>\n",
       "    <tr>\n",
       "      <th>0</th>\n",
       "      <td>11001</td>\n",
       "      <td>50.000000</td>\n",
       "    </tr>\n",
       "    <tr>\n",
       "      <th>1</th>\n",
       "      <td>11005</td>\n",
       "      <td>50.000000</td>\n",
       "    </tr>\n",
       "    <tr>\n",
       "      <th>2</th>\n",
       "      <td>10039</td>\n",
       "      <td>16.666667</td>\n",
       "    </tr>\n",
       "    <tr>\n",
       "      <th>3</th>\n",
       "      <td>11213</td>\n",
       "      <td>13.461538</td>\n",
       "    </tr>\n",
       "    <tr>\n",
       "      <th>4</th>\n",
       "      <td>11364</td>\n",
       "      <td>11.320755</td>\n",
       "    </tr>\n",
       "  </tbody>\n",
       "</table>\n",
       "</div>"
      ],
      "text/plain": [
       "  zipcode      Ratio\n",
       "0   11001  50.000000\n",
       "1   11005  50.000000\n",
       "2   10039  16.666667\n",
       "3   11213  13.461538\n",
       "4   11364  11.320755"
      ]
     },
     "execution_count": 27,
     "metadata": {},
     "output_type": "execute_result"
    }
   ],
   "source": [
    "ratio_zipcode_open_to_close_df = ratio_zipcode_open_to_close.sort_values(ascending=False).rename_axis('zipcode').reset_index(name='Ratio')\n",
    "ratio_zipcode_open_to_close_df['zipcode'] = ratio_zipcode_open_to_close_df['zipcode'].astype(str)\n",
    "ratio_zipcode_open_to_close_df.head()"
   ]
  },
  {
   "cell_type": "code",
   "execution_count": 28,
   "id": "eaca9e2c-60f1-47c1-b9a8-0e16c2ca5198",
   "metadata": {},
   "outputs": [
    {
     "data": {
      "text/html": [
       "<div>\n",
       "<style scoped>\n",
       "    .dataframe tbody tr th:only-of-type {\n",
       "        vertical-align: middle;\n",
       "    }\n",
       "\n",
       "    .dataframe tbody tr th {\n",
       "        vertical-align: top;\n",
       "    }\n",
       "\n",
       "    .dataframe thead th {\n",
       "        text-align: right;\n",
       "    }\n",
       "</style>\n",
       "<table border=\"1\" class=\"dataframe\">\n",
       "  <thead>\n",
       "    <tr style=\"text-align: right;\">\n",
       "      <th></th>\n",
       "      <th>boro</th>\n",
       "      <th>zipcode</th>\n",
       "    </tr>\n",
       "  </thead>\n",
       "  <tbody>\n",
       "    <tr>\n",
       "      <th>0</th>\n",
       "      <td>Brooklyn</td>\n",
       "      <td>11225</td>\n",
       "    </tr>\n",
       "    <tr>\n",
       "      <th>1</th>\n",
       "      <td>Manhattan</td>\n",
       "      <td>10019</td>\n",
       "    </tr>\n",
       "    <tr>\n",
       "      <th>2</th>\n",
       "      <td>Brooklyn</td>\n",
       "      <td>11224</td>\n",
       "    </tr>\n",
       "    <tr>\n",
       "      <th>3</th>\n",
       "      <td>Brooklyn</td>\n",
       "      <td>11234</td>\n",
       "    </tr>\n",
       "    <tr>\n",
       "      <th>4</th>\n",
       "      <td>Brooklyn</td>\n",
       "      <td>11226</td>\n",
       "    </tr>\n",
       "  </tbody>\n",
       "</table>\n",
       "</div>"
      ],
      "text/plain": [
       "        boro zipcode\n",
       "0   Brooklyn   11225\n",
       "1  Manhattan   10019\n",
       "2   Brooklyn   11224\n",
       "3   Brooklyn   11234\n",
       "4   Brooklyn   11226"
      ]
     },
     "execution_count": 28,
     "metadata": {},
     "output_type": "execute_result"
    }
   ],
   "source": [
    "all_restaurants['zipcode']  = all_restaurants['zipcode'].astype(str)\n",
    "all_restaurants_boro_and_zips = all_restaurants[['boro', 'zipcode']]\n",
    "all_restaurants_boro_and_zips.head()"
   ]
  },
  {
   "cell_type": "code",
   "execution_count": 29,
   "id": "d905077d-263a-4b88-bc95-9efc3ffcd285",
   "metadata": {},
   "outputs": [
    {
     "data": {
      "text/html": [
       "<div>\n",
       "<style scoped>\n",
       "    .dataframe tbody tr th:only-of-type {\n",
       "        vertical-align: middle;\n",
       "    }\n",
       "\n",
       "    .dataframe tbody tr th {\n",
       "        vertical-align: top;\n",
       "    }\n",
       "\n",
       "    .dataframe thead th {\n",
       "        text-align: right;\n",
       "    }\n",
       "</style>\n",
       "<table border=\"1\" class=\"dataframe\">\n",
       "  <thead>\n",
       "    <tr style=\"text-align: right;\">\n",
       "      <th></th>\n",
       "      <th>zipcode</th>\n",
       "      <th>Ratio</th>\n",
       "      <th>boro</th>\n",
       "    </tr>\n",
       "  </thead>\n",
       "  <tbody>\n",
       "    <tr>\n",
       "      <th>0</th>\n",
       "      <td>11001</td>\n",
       "      <td>50.000000</td>\n",
       "      <td>Queens</td>\n",
       "    </tr>\n",
       "    <tr>\n",
       "      <th>1</th>\n",
       "      <td>11005</td>\n",
       "      <td>50.000000</td>\n",
       "      <td>Queens</td>\n",
       "    </tr>\n",
       "    <tr>\n",
       "      <th>2</th>\n",
       "      <td>10039</td>\n",
       "      <td>16.666667</td>\n",
       "      <td>Manhattan</td>\n",
       "    </tr>\n",
       "    <tr>\n",
       "      <th>3</th>\n",
       "      <td>11213</td>\n",
       "      <td>13.461538</td>\n",
       "      <td>Brooklyn</td>\n",
       "    </tr>\n",
       "    <tr>\n",
       "      <th>4</th>\n",
       "      <td>11364</td>\n",
       "      <td>11.320755</td>\n",
       "      <td>Queens</td>\n",
       "    </tr>\n",
       "  </tbody>\n",
       "</table>\n",
       "</div>"
      ],
      "text/plain": [
       "  zipcode      Ratio       boro\n",
       "0   11001  50.000000     Queens\n",
       "1   11005  50.000000     Queens\n",
       "2   10039  16.666667  Manhattan\n",
       "3   11213  13.461538   Brooklyn\n",
       "4   11364  11.320755     Queens"
      ]
     },
     "execution_count": 29,
     "metadata": {},
     "output_type": "execute_result"
    }
   ],
   "source": [
    "ratio_zipcode_open_to_close_boro = pd.merge(ratio_zipcode_open_to_close_df,\n",
    "                                            all_restaurants_boro_and_zips.drop_duplicates(),how = 'inner',on = 'zipcode')\n",
    "ratio_zipcode_open_to_close_boro.head()"
   ]
  },
  {
   "cell_type": "raw",
   "id": "55830693-107f-4e18-a36a-1fa4e1183f4d",
   "metadata": {},
   "source": [
    "Obtained the resturant types (cuisine type) closure rate in Manhattan and Staten Island"
   ]
  },
  {
   "cell_type": "code",
   "execution_count": 30,
   "id": "6f0c1681-f80c-4803-b3eb-a492ad3a68ee",
   "metadata": {},
   "outputs": [
    {
     "data": {
      "text/html": [
       "<div>\n",
       "<style scoped>\n",
       "    .dataframe tbody tr th:only-of-type {\n",
       "        vertical-align: middle;\n",
       "    }\n",
       "\n",
       "    .dataframe tbody tr th {\n",
       "        vertical-align: top;\n",
       "    }\n",
       "\n",
       "    .dataframe thead th {\n",
       "        text-align: right;\n",
       "    }\n",
       "</style>\n",
       "<table border=\"1\" class=\"dataframe\">\n",
       "  <thead>\n",
       "    <tr style=\"text-align: right;\">\n",
       "      <th></th>\n",
       "      <th>restaurant_name</th>\n",
       "      <th>camis</th>\n",
       "      <th>boro</th>\n",
       "      <th>zipcode</th>\n",
       "      <th>cuisine_description</th>\n",
       "      <th>inspection_date</th>\n",
       "      <th>violation_code</th>\n",
       "      <th>violation_description</th>\n",
       "      <th>score</th>\n",
       "      <th>critical_flag</th>\n",
       "      <th>action</th>\n",
       "      <th>longitude</th>\n",
       "      <th>latitude</th>\n",
       "    </tr>\n",
       "  </thead>\n",
       "  <tbody>\n",
       "    <tr>\n",
       "      <th>4</th>\n",
       "      <td>SPOONBREAD TOO</td>\n",
       "      <td>40364179</td>\n",
       "      <td>Manhattan</td>\n",
       "      <td>10025</td>\n",
       "      <td>Soul Food</td>\n",
       "      <td>2018-05-23</td>\n",
       "      <td>05F</td>\n",
       "      <td>Insufficient or no refrigerated or hot holding...</td>\n",
       "      <td>59.0</td>\n",
       "      <td>Critical</td>\n",
       "      <td>Establishment Closed by DOHMH. Violations were...</td>\n",
       "      <td>-73.960159</td>\n",
       "      <td>40.801373</td>\n",
       "    </tr>\n",
       "    <tr>\n",
       "      <th>11</th>\n",
       "      <td>MARCHIS RESTAURANT</td>\n",
       "      <td>40364668</td>\n",
       "      <td>Manhattan</td>\n",
       "      <td>10016</td>\n",
       "      <td>Italian</td>\n",
       "      <td>2017-11-09</td>\n",
       "      <td>08A</td>\n",
       "      <td>Facility not vermin proof. Harborage or condit...</td>\n",
       "      <td>12.0</td>\n",
       "      <td>Not Critical</td>\n",
       "      <td>Establishment Closed by DOHMH. Violations were...</td>\n",
       "      <td>-73.978333</td>\n",
       "      <td>40.743332</td>\n",
       "    </tr>\n",
       "    <tr>\n",
       "      <th>17</th>\n",
       "      <td>OLD HOMESTEAD</td>\n",
       "      <td>40364715</td>\n",
       "      <td>Manhattan</td>\n",
       "      <td>10011</td>\n",
       "      <td>American</td>\n",
       "      <td>2018-02-26</td>\n",
       "      <td>08A</td>\n",
       "      <td>Facility not vermin proof. Harborage or condit...</td>\n",
       "      <td>53.0</td>\n",
       "      <td>Not Critical</td>\n",
       "      <td>Establishment Closed by DOHMH. Violations were...</td>\n",
       "      <td>-74.005035</td>\n",
       "      <td>40.741371</td>\n",
       "    </tr>\n",
       "    <tr>\n",
       "      <th>24</th>\n",
       "      <td>V &amp; T RESTAURANT</td>\n",
       "      <td>40365577</td>\n",
       "      <td>Manhattan</td>\n",
       "      <td>10025</td>\n",
       "      <td>Italian</td>\n",
       "      <td>2019-07-05</td>\n",
       "      <td>10F</td>\n",
       "      <td>Non-food contact surface improperly constructe...</td>\n",
       "      <td>50.0</td>\n",
       "      <td>Not Critical</td>\n",
       "      <td>Establishment Closed by DOHMH. Violations were...</td>\n",
       "      <td>-73.963615</td>\n",
       "      <td>40.803329</td>\n",
       "    </tr>\n",
       "    <tr>\n",
       "      <th>41</th>\n",
       "      <td>CHERRY TAVERN</td>\n",
       "      <td>40368271</td>\n",
       "      <td>Manhattan</td>\n",
       "      <td>10009</td>\n",
       "      <td>Bottled Beverages</td>\n",
       "      <td>2019-04-04</td>\n",
       "      <td>10F</td>\n",
       "      <td>Non-food contact surface improperly constructe...</td>\n",
       "      <td>46.0</td>\n",
       "      <td>Not Critical</td>\n",
       "      <td>Establishment Closed by DOHMH. Violations were...</td>\n",
       "      <td>-73.985199</td>\n",
       "      <td>40.725994</td>\n",
       "    </tr>\n",
       "  </tbody>\n",
       "</table>\n",
       "</div>"
      ],
      "text/plain": [
       "       restaurant_name     camis       boro zipcode cuisine_description  \\\n",
       "4       SPOONBREAD TOO  40364179  Manhattan   10025           Soul Food   \n",
       "11  MARCHIS RESTAURANT  40364668  Manhattan   10016             Italian   \n",
       "17       OLD HOMESTEAD  40364715  Manhattan   10011            American   \n",
       "24    V & T RESTAURANT  40365577  Manhattan   10025             Italian   \n",
       "41       CHERRY TAVERN  40368271  Manhattan   10009   Bottled Beverages   \n",
       "\n",
       "   inspection_date violation_code  \\\n",
       "4       2018-05-23            05F   \n",
       "11      2017-11-09            08A   \n",
       "17      2018-02-26            08A   \n",
       "24      2019-07-05            10F   \n",
       "41      2019-04-04            10F   \n",
       "\n",
       "                                violation_description  score critical_flag  \\\n",
       "4   Insufficient or no refrigerated or hot holding...   59.0      Critical   \n",
       "11  Facility not vermin proof. Harborage or condit...   12.0  Not Critical   \n",
       "17  Facility not vermin proof. Harborage or condit...   53.0  Not Critical   \n",
       "24  Non-food contact surface improperly constructe...   50.0  Not Critical   \n",
       "41  Non-food contact surface improperly constructe...   46.0  Not Critical   \n",
       "\n",
       "                                               action  longitude   latitude  \n",
       "4   Establishment Closed by DOHMH. Violations were... -73.960159  40.801373  \n",
       "11  Establishment Closed by DOHMH. Violations were... -73.978333  40.743332  \n",
       "17  Establishment Closed by DOHMH. Violations were... -74.005035  40.741371  \n",
       "24  Establishment Closed by DOHMH. Violations were... -73.963615  40.803329  \n",
       "41  Establishment Closed by DOHMH. Violations were... -73.985199  40.725994  "
      ]
     },
     "execution_count": 30,
     "metadata": {},
     "output_type": "execute_result"
    }
   ],
   "source": [
    "closed_restaurants_Man = closed_restaurants[(closed_restaurants['boro'] == 'Manhattan')]\n",
    "closed_restaurants_Man.head()                                                                           "
   ]
  },
  {
   "cell_type": "code",
   "execution_count": 31,
   "id": "2b1b7fe1-0fa8-40a0-97aa-00142ec99e4e",
   "metadata": {},
   "outputs": [],
   "source": [
    "all_restaurants_Man = all_restaurants[(all_restaurants['boro'] == 'Manhattan')]\n"
   ]
  },
  {
   "cell_type": "code",
   "execution_count": 32,
   "id": "28ea9da9-615b-454a-aa6e-52082bc898cb",
   "metadata": {},
   "outputs": [],
   "source": [
    "ratio_cuisine_close_to_open_Man = (closed_restaurants_Man.cuisine_description.value_counts()/all_restaurants_Man.cuisine_description.value_counts())*100"
   ]
  },
  {
   "cell_type": "code",
   "execution_count": 33,
   "id": "b4de9911-2564-418d-a3c5-13b1cd244054",
   "metadata": {},
   "outputs": [
    {
     "data": {
      "text/plain": [
       "Afghan                20.000000\n",
       "African               10.000000\n",
       "American               2.306353\n",
       "Asian/Asian Fusion     6.250000\n",
       "Australian            13.333333\n",
       "Name: cuisine_description, dtype: float64"
      ]
     },
     "execution_count": 33,
     "metadata": {},
     "output_type": "execute_result"
    }
   ],
   "source": [
    "ratio_cuisine_close_to_open_Man = ratio_cuisine_close_to_open_Man.dropna()\n",
    "ratio_cuisine_close_to_open_Man.head()"
   ]
  },
  {
   "cell_type": "code",
   "execution_count": 34,
   "id": "ad2912a3-00a6-4f5e-9e9a-190361acd32c",
   "metadata": {},
   "outputs": [
    {
     "data": {
      "text/plain": [
       "cuisine_description\n",
       "Pakistani           33.333333\n",
       "Bangladeshi         33.333333\n",
       "Afghan              20.000000\n",
       "Russian             20.000000\n",
       "Filipino            20.000000\n",
       "Ethiopian           20.000000\n",
       "Southeast Asian     19.354839\n",
       "Brazilian           18.181818\n",
       "Chinese/Japanese    15.000000\n",
       "Indian              14.960630\n",
       "Name: cuisine_description, dtype: float64"
      ]
     },
     "execution_count": 34,
     "metadata": {},
     "output_type": "execute_result"
    }
   ],
   "source": [
    "ratio_cuisine_close_to_open_Man_df = ratio_cuisine_close_to_open_Man.sort_values(ascending=False).rename_axis('cuisine_description')\n",
    "ratio_cuisine_close_to_open_Man_df.head(10)"
   ]
  },
  {
   "cell_type": "code",
   "execution_count": 35,
   "id": "16d4fbbf-7b74-48b5-b84e-2a2b393a6bcd",
   "metadata": {},
   "outputs": [
    {
     "data": {
      "image/png": "[encoded data removed]",
      "text/plain": [
       "<Figure size 432x288 with 1 Axes>"
      ]
     },
     "metadata": {
      "needs_background": "light"
     },
     "output_type": "display_data"
    }
   ],
   "source": [
    "ratio_cuisine_close_to_open_Man_df.head(10).plot(kind=\"bar\")\n",
    "plt.title('Percent of Restaurant Cuisine Types Ordered to Close in Manhattan')\n",
    "plt.ylabel('Closure Rate (%)')\n",
    "plt.xlabel('Cuisine Type')\n",
    "plt.show()"
   ]
  },
  {
   "cell_type": "code",
   "execution_count": 36,
   "id": "90c48261-f6ba-4397-b444-7c4c0229ffff",
   "metadata": {},
   "outputs": [
    {
     "data": {
      "text/plain": [
       "(28, 13)"
      ]
     },
     "execution_count": 36,
     "metadata": {},
     "output_type": "execute_result"
    }
   ],
   "source": [
    "closed_restaurants_SI = closed_restaurants[(closed_restaurants['boro'] == 'Staten Island')]\n",
    "closed_restaurants_SI.shape"
   ]
  },
  {
   "cell_type": "code",
   "execution_count": 37,
   "id": "bdb0335e-c5bd-4630-859e-871a2f0be3ff",
   "metadata": {},
   "outputs": [
    {
     "data": {
      "text/plain": [
       "(1020, 4)"
      ]
     },
     "execution_count": 37,
     "metadata": {},
     "output_type": "execute_result"
    }
   ],
   "source": [
    "all_restaurants_SI = all_restaurants[(all_restaurants['boro'] == 'Staten Island')]\n",
    "all_restaurants_SI.shape"
   ]
  },
  {
   "cell_type": "code",
   "execution_count": 38,
   "id": "8b669fce-b642-4162-a4c6-48c987b46f60",
   "metadata": {},
   "outputs": [],
   "source": [
    "ratio_cuisine_close_to_open_SI = (closed_restaurants_SI.cuisine_description.value_counts()/all_restaurants_SI.cuisine_description.value_counts())*100"
   ]
  },
  {
   "cell_type": "code",
   "execution_count": 39,
   "id": "1cbe2e41-882e-4c95-b01d-e6f1602ddd93",
   "metadata": {},
   "outputs": [
    {
     "data": {
      "text/plain": [
       "Peruvian      33.333333\n",
       "Pizza          0.980392\n",
       "Russian       50.000000\n",
       "Sandwiches     3.333333\n",
       "Thai          20.000000\n",
       "Name: cuisine_description, dtype: float64"
      ]
     },
     "execution_count": 39,
     "metadata": {},
     "output_type": "execute_result"
    }
   ],
   "source": [
    "ratio_cuisine_close_to_open_SI_df = ratio_cuisine_close_to_open_SI.dropna()\n",
    "ratio_cuisine_close_to_open_SI_df.tail()"
   ]
  },
  {
   "cell_type": "code",
   "execution_count": 40,
   "id": "e42e659c-bea3-4df8-8151-e561e5ccac0e",
   "metadata": {},
   "outputs": [
    {
     "data": {
      "image/png": "[encoded data removed]",
      "text/plain": [
       "<Figure size 432x288 with 1 Axes>"
      ]
     },
     "metadata": {
      "needs_background": "light"
     },
     "output_type": "display_data"
    }
   ],
   "source": [
    "ratio_cuisine_close_to_open_SI_df.plot(kind=\"bar\")\n",
    "plt.title('Percent of Restaurant Cuisine Types Ordered to Close in Staten Island')\n",
    "plt.ylabel('Closure Rate (%)')\n",
    "plt.xlabel('Cuisine Type')\n",
    "plt.show()"
   ]
  },
  {
   "cell_type": "markdown",
   "id": "d1674bbd-f28f-4167-ad11-e24da7e41b48",
   "metadata": {},
   "source": [
    "Q. What month were there the most closure violations? What month had the least?"
   ]
  },
  {
   "cell_type": "code",
   "execution_count": 41,
   "id": "ca5f1aef-1d1b-4fdc-90d1-423254c564f6",
   "metadata": {},
   "outputs": [
    {
     "name": "stderr",
     "output_type": "stream",
     "text": [
      "/tmp/ipykernel_2172434/1632789581.py:1: SettingWithCopyWarning: \n",
      "A value is trying to be set on a copy of a slice from a DataFrame.\n",
      "Try using .loc[row_indexer,col_indexer] = value instead\n",
      "\n",
      "See the caveats in the documentation: https://pandas.pydata.org/pandas-docs/stable/user_guide/indexing.html#returning-a-view-versus-a-copy\n",
      "  closed_restaurants['Month'] = closed_restaurants['inspection_date'].dt.month\n"
     ]
    },
    {
     "data": {
      "text/html": [
       "<div>\n",
       "<style scoped>\n",
       "    .dataframe tbody tr th:only-of-type {\n",
       "        vertical-align: middle;\n",
       "    }\n",
       "\n",
       "    .dataframe tbody tr th {\n",
       "        vertical-align: top;\n",
       "    }\n",
       "\n",
       "    .dataframe thead th {\n",
       "        text-align: right;\n",
       "    }\n",
       "</style>\n",
       "<table border=\"1\" class=\"dataframe\">\n",
       "  <thead>\n",
       "    <tr style=\"text-align: right;\">\n",
       "      <th></th>\n",
       "      <th>restaurant_name</th>\n",
       "      <th>camis</th>\n",
       "      <th>boro</th>\n",
       "      <th>zipcode</th>\n",
       "      <th>cuisine_description</th>\n",
       "      <th>inspection_date</th>\n",
       "      <th>violation_code</th>\n",
       "      <th>violation_description</th>\n",
       "      <th>score</th>\n",
       "      <th>critical_flag</th>\n",
       "      <th>action</th>\n",
       "      <th>longitude</th>\n",
       "      <th>latitude</th>\n",
       "      <th>Month</th>\n",
       "    </tr>\n",
       "  </thead>\n",
       "  <tbody>\n",
       "    <tr>\n",
       "      <th>8696</th>\n",
       "      <td>NICE CHINATOWN</td>\n",
       "      <td>50123254</td>\n",
       "      <td>Brooklyn</td>\n",
       "      <td>11230</td>\n",
       "      <td>Chinese</td>\n",
       "      <td>2022-06-17</td>\n",
       "      <td>10F</td>\n",
       "      <td>Non-food contact surface improperly constructe...</td>\n",
       "      <td>59.0</td>\n",
       "      <td>Not Critical</td>\n",
       "      <td>Establishment Closed by DOHMH. Violations were...</td>\n",
       "      <td>-73.963760</td>\n",
       "      <td>40.633732</td>\n",
       "      <td>6</td>\n",
       "    </tr>\n",
       "    <tr>\n",
       "      <th>8705</th>\n",
       "      <td>ALMAH COFFEE SHOP</td>\n",
       "      <td>50124859</td>\n",
       "      <td>Brooklyn</td>\n",
       "      <td>11213</td>\n",
       "      <td>Jewish/Kosher</td>\n",
       "      <td>2022-08-02</td>\n",
       "      <td>10F</td>\n",
       "      <td>Non-food contact surface or equipment made of ...</td>\n",
       "      <td>77.0</td>\n",
       "      <td>Not Critical</td>\n",
       "      <td>Establishment Closed by DOHMH. Violations were...</td>\n",
       "      <td>-73.930435</td>\n",
       "      <td>40.675930</td>\n",
       "      <td>8</td>\n",
       "    </tr>\n",
       "  </tbody>\n",
       "</table>\n",
       "</div>"
      ],
      "text/plain": [
       "        restaurant_name     camis      boro zipcode cuisine_description  \\\n",
       "8696     NICE CHINATOWN  50123254  Brooklyn   11230             Chinese   \n",
       "8705  ALMAH COFFEE SHOP  50124859  Brooklyn   11213       Jewish/Kosher   \n",
       "\n",
       "     inspection_date violation_code  \\\n",
       "8696      2022-06-17            10F   \n",
       "8705      2022-08-02            10F   \n",
       "\n",
       "                                  violation_description  score critical_flag  \\\n",
       "8696  Non-food contact surface improperly constructe...   59.0  Not Critical   \n",
       "8705  Non-food contact surface or equipment made of ...   77.0  Not Critical   \n",
       "\n",
       "                                                 action  longitude   latitude  \\\n",
       "8696  Establishment Closed by DOHMH. Violations were... -73.963760  40.633732   \n",
       "8705  Establishment Closed by DOHMH. Violations were... -73.930435  40.675930   \n",
       "\n",
       "      Month  \n",
       "8696      6  \n",
       "8705      8  "
      ]
     },
     "execution_count": 41,
     "metadata": {},
     "output_type": "execute_result"
    }
   ],
   "source": [
    "closed_restaurants['Month'] = closed_restaurants['inspection_date'].dt.month"
   ]
  },
  {
   "cell_type": "code",
   "execution_count": 42,
   "id": "ad866f09-6c5a-41bc-8110-e03386f04560",
   "metadata": {},
   "outputs": [
    {
     "data": {
      "image/png": "[encoded data removed]",
      "text/plain": [
       "<Figure size 432x288 with 1 Axes>"
      ]
     },
     "metadata": {
      "needs_background": "light"
     },
     "output_type": "display_data"
    }
   ],
   "source": [
    "months = [month for month, df in closed_restaurants.groupby('Month')]\n",
    "\n",
    "months_scatter = plt.plot(months, closed_restaurants.groupby(['Month']).count())\n",
    "plt.xticks(months)\n",
    "plt.title('Frequency of Restaurant Closures by Month')\n",
    "plt.ylabel('Restaurant Closure Count')\n",
    "plt.xlabel('Month')\n",
    "plt.show()"
   ]
  },
  {
   "cell_type": "markdown",
   "id": "239dfd20-a0d2-47db-ad73-e4d34be1e3e4",
   "metadata": {},
   "source": [
    "Part 1 A: Inspections resulting in a closure occured the most during the summer months (July, August). Restaurant inspections resulting a closure occured least during mid spring (April, May), as well as those in the winter months (November-February).\n",
    "\n",
    "We still need to see how a new restaurant will do. We extracted all restaurants that closed on the first recorded initial inspection."
   ]
  },
  {
   "cell_type": "code",
   "execution_count": 43,
   "id": "7907927e-57f2-47c6-87c5-f370d7e61fe1",
   "metadata": {},
   "outputs": [
    {
     "data": {
      "text/plain": [
       "(451, 11)"
      ]
     },
     "execution_count": 43,
     "metadata": {},
     "output_type": "execute_result"
    }
   ],
   "source": [
    "first_unique_inspection_closures = first_inspection_closures.drop_duplicates(subset='camis', keep='last', inplace=False)\n",
    "first_unique_inspection_closures.shape\n",
    "#451 restaurants closed on their first recorded initial inspection"
   ]
  },
  {
   "cell_type": "code",
   "execution_count": 44,
   "id": "4cbb8cce-686d-4904-bc51-44db727dd6b3",
   "metadata": {},
   "outputs": [
    {
     "name": "stderr",
     "output_type": "stream",
     "text": [
      "/tmp/ipykernel_2172434/3208423526.py:1: SettingWithCopyWarning: \n",
      "A value is trying to be set on a copy of a slice from a DataFrame.\n",
      "Try using .loc[row_indexer,col_indexer] = value instead\n",
      "\n",
      "See the caveats in the documentation: https://pandas.pydata.org/pandas-docs/stable/user_guide/indexing.html#returning-a-view-versus-a-copy\n",
      "  first_unique_inspection_closures['Month'] = first_unique_inspection_closures['inspection_date'].dt.month\n"
     ]
    }
   ],
   "source": [
    "first_unique_inspection_closures['Month'] = first_unique_inspection_closures['inspection_date'].dt.month"
   ]
  },
  {
   "cell_type": "code",
   "execution_count": 45,
   "id": "21a994cc-7e7e-49af-b0aa-407de8a682c1",
   "metadata": {},
   "outputs": [
    {
     "data": {
      "image/png": "[encoded data removed]",
      "text/plain": [
       "<Figure size 432x288 with 1 Axes>"
      ]
     },
     "metadata": {
      "needs_background": "light"
     },
     "output_type": "display_data"
    }
   ],
   "source": [
    "first_unique_inspection_closures['Month'].value_counts().sort_index().plot(kind='line')\n",
    "plt.title('Frequency of Restaurant Closures on the First Inspection')\n",
    "plt.ylabel('Restaurant Closure Count')\n",
    "plt.xlabel('Month')\n",
    "plt.show()"
   ]
  },
  {
   "cell_type": "raw",
   "id": "0c5dbe13-2c74-4bad-9674-d62beee946c4",
   "metadata": {},
   "source": [
    "Answer Part 2: Of all the restaurants that closed on their first inpection, the closures happened most frequently from July to October. The least amount occured in November to March."
   ]
  }
 ],
 "metadata": {
  "kernelspec": {
   "display_name": "Python 3 (ipykernel)",
   "language": "python",
   "name": "python3"
  },
  "language_info": {
   "codemirror_mode": {
    "name": "ipython",
    "version": 3
   },
   "file_extension": ".py",
   "mimetype": "text/x-python",
   "name": "python",
   "nbconvert_exporter": "python",
   "pygments_lexer": "ipython3",
   "version": "3.9.7"
  },
  "toc-autonumbering": true,
  "toc-showcode": false,
  "toc-showmarkdowntxt": false,
  "toc-showtags": true
 },
 "nbformat": 4,
 "nbformat_minor": 5
}
